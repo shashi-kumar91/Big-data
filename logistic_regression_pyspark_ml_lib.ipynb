{
  "nbformat": 4,
  "nbformat_minor": 0,
  "metadata": {
    "colab": {
      "provenance": []
    },
    "kernelspec": {
      "name": "python3",
      "display_name": "Python 3"
    },
    "language_info": {
      "name": "python"
    }
  },
  "cells": [
    {
      "cell_type": "code",
      "execution_count": null,
      "metadata": {
        "id": "eWfKfEnvexn5"
      },
      "outputs": [],
      "source": [
        "import pyspark"
      ]
    },
    {
      "cell_type": "code",
      "source": [
        "from pyspark.sql import SparkSession"
      ],
      "metadata": {
        "id": "fCKXODBzjwm5"
      },
      "execution_count": null,
      "outputs": []
    },
    {
      "cell_type": "code",
      "source": [
        "spark=SparkSession.builder.appName('big-dta-2nd').getOrCreate()"
      ],
      "metadata": {
        "id": "hYluZNBTj7zY"
      },
      "execution_count": null,
      "outputs": []
    },
    {
      "cell_type": "code",
      "source": [
        "spark"
      ],
      "metadata": {
        "colab": {
          "base_uri": "https://localhost:8080/",
          "height": 221
        },
        "id": "AgGmlbRTkNRh",
        "outputId": "3b0f19fb-bb28-4467-eaca-339a2c9982b6"
      },
      "execution_count": null,
      "outputs": [
        {
          "output_type": "execute_result",
          "data": {
            "text/plain": [
              "<pyspark.sql.session.SparkSession at 0x7e6e8aaf3890>"
            ],
            "text/html": [
              "\n",
              "            <div>\n",
              "                <p><b>SparkSession - in-memory</b></p>\n",
              "                \n",
              "        <div>\n",
              "            <p><b>SparkContext</b></p>\n",
              "\n",
              "            <p><a href=\"http://9ae50378e485:4040\">Spark UI</a></p>\n",
              "\n",
              "            <dl>\n",
              "              <dt>Version</dt>\n",
              "                <dd><code>v3.5.4</code></dd>\n",
              "              <dt>Master</dt>\n",
              "                <dd><code>local[*]</code></dd>\n",
              "              <dt>AppName</dt>\n",
              "                <dd><code>big-dta-2nd</code></dd>\n",
              "            </dl>\n",
              "        </div>\n",
              "        \n",
              "            </div>\n",
              "        "
            ]
          },
          "metadata": {},
          "execution_count": 61
        }
      ]
    },
    {
      "cell_type": "code",
      "source": [
        "df=spark.read.csv('/content/credit_card_fraud_dataset.csv',inferSchema=True,header=True)"
      ],
      "metadata": {
        "id": "YccBQp4Fkiun"
      },
      "execution_count": null,
      "outputs": []
    },
    {
      "cell_type": "code",
      "source": [
        "df.show()"
      ],
      "metadata": {
        "colab": {
          "base_uri": "https://localhost:8080/"
        },
        "id": "zjVnalYxlBcB",
        "outputId": "67430c80-d996-4710-9cbb-665d0fbba8f8"
      },
      "execution_count": null,
      "outputs": [
        {
          "output_type": "stream",
          "name": "stdout",
          "text": [
            "+-------------+--------------------+-------+----------+---------------+------------+-------+\n",
            "|TransactionID|     TransactionDate| Amount|MerchantID|TransactionType|    Location|IsFraud|\n",
            "+-------------+--------------------+-------+----------+---------------+------------+-------+\n",
            "|            1|2024-04-03 14:15:...|4189.27|       688|         refund| San Antonio|      0|\n",
            "|            2|2024-03-19 13:20:...|2659.71|       109|         refund|      Dallas|      0|\n",
            "|            3|2024-01-08 10:08:...|  784.0|       394|       purchase|    New York|      0|\n",
            "|            4|2024-04-13 23:50:...| 3514.4|       944|       purchase|Philadelphia|      0|\n",
            "|            5|2024-07-12 18:51:...| 369.07|       475|       purchase|     Phoenix|      0|\n",
            "|            6|2024-08-30 01:52:...|3086.22|       302|       purchase|    New York|      0|\n",
            "|            7|2024-01-02 11:31:...| 1466.9|       902|         refund|Philadelphia|      0|\n",
            "|            8|2024-05-12 12:25:...| 917.21|       266|       purchase|    New York|      0|\n",
            "|            9|2023-11-16 02:20:...|1625.73|        32|         refund|     Chicago|      0|\n",
            "|           10|2023-10-24 06:51:...| 662.07|       193|       purchase|      Dallas|      0|\n",
            "|           11|2024-08-10 17:08:...|3895.94|       349|         refund| San Antonio|      0|\n",
            "|           12|2024-08-27 16:03:...| 944.94|       359|       purchase|    San Jose|      0|\n",
            "|           13|2024-08-31 02:38:...|2855.69|       219|         refund|    New York|      0|\n",
            "|           14|2023-11-12 13:30:...|4313.82|       617|         refund|    San Jose|      0|\n",
            "|           15|2024-07-13 09:02:...|4599.06|       529|         refund|Philadelphia|      0|\n",
            "|           16|2024-03-23 06:20:...|1524.05|       462|       purchase|   San Diego|      0|\n",
            "|           17|2024-01-04 22:23:...|2721.95|       912|         refund|    New York|      0|\n",
            "|           18|2023-11-05 23:33:...|1357.76|       522|         refund|    New York|      0|\n",
            "|           19|2024-02-29 06:41:...|4726.01|       456|       purchase|      Dallas|      0|\n",
            "|           20|2024-01-16 01:48:...|1814.95|       134|         refund|     Houston|      0|\n",
            "+-------------+--------------------+-------+----------+---------------+------------+-------+\n",
            "only showing top 20 rows\n",
            "\n"
          ]
        }
      ]
    },
    {
      "cell_type": "code",
      "source": [
        "df.printSchema()"
      ],
      "metadata": {
        "id": "wIiJtgMjlF_G",
        "colab": {
          "base_uri": "https://localhost:8080/"
        },
        "outputId": "9ab8659a-d609-4193-dbe5-e6096b829628"
      },
      "execution_count": null,
      "outputs": [
        {
          "output_type": "stream",
          "name": "stdout",
          "text": [
            "root\n",
            " |-- TransactionID: integer (nullable = true)\n",
            " |-- TransactionDate: timestamp (nullable = true)\n",
            " |-- Amount: double (nullable = true)\n",
            " |-- MerchantID: integer (nullable = true)\n",
            " |-- TransactionType: string (nullable = true)\n",
            " |-- Location: string (nullable = true)\n",
            " |-- IsFraud: integer (nullable = true)\n",
            "\n"
          ]
        }
      ]
    },
    {
      "cell_type": "code",
      "source": [
        "\n",
        "df.groupby('Location').count().show()"
      ],
      "metadata": {
        "colab": {
          "base_uri": "https://localhost:8080/"
        },
        "id": "sKIxm1scsI8c",
        "outputId": "3706b118-1c1e-49e2-f137-d00931049530"
      },
      "execution_count": null,
      "outputs": [
        {
          "output_type": "stream",
          "name": "stdout",
          "text": [
            "+------------+-----+\n",
            "|    Location|count|\n",
            "+------------+-----+\n",
            "|     Phoenix| 9960|\n",
            "|      Dallas|10076|\n",
            "| San Antonio|10062|\n",
            "|Philadelphia| 9873|\n",
            "| Los Angeles| 9936|\n",
            "|   San Diego|10111|\n",
            "|     Chicago|10193|\n",
            "|    San Jose| 9805|\n",
            "|     Houston| 9991|\n",
            "|    New York| 9993|\n",
            "+------------+-----+\n",
            "\n"
          ]
        }
      ]
    },
    {
      "cell_type": "code",
      "source": [
        "from pyspark.sql.functions import year, month, dayofmonth, hour, minute, second\n",
        "\n",
        "\n",
        "df_with_integers = df.withColumn(\"year\", year(\"TransactionDate\")) \\\n",
        "                     .withColumn(\"month\", month(\"TransactionDate\")) \\\n",
        "                     .withColumn(\"day\", dayofmonth(\"TransactionDate\")) \\\n",
        "                     .withColumn(\"hour\", hour(\"TransactionDate\")) \\\n",
        "                     .withColumn(\"minute\", minute(\"TransactionDate\")) \\\n",
        "                     .withColumn(\"second\", second(\"TransactionDate\"))\n",
        "\n",
        "df_with_integers.show()"
      ],
      "metadata": {
        "colab": {
          "base_uri": "https://localhost:8080/"
        },
        "id": "KqDGUPSDs4fA",
        "outputId": "9d2fec77-464c-45d3-96bb-a02dc0a877fc"
      },
      "execution_count": null,
      "outputs": [
        {
          "output_type": "stream",
          "name": "stdout",
          "text": [
            "+-------------+--------------------+-------+----------+---------------+------------+-------+----+-----+---+----+------+------+\n",
            "|TransactionID|     TransactionDate| Amount|MerchantID|TransactionType|    Location|IsFraud|year|month|day|hour|minute|second|\n",
            "+-------------+--------------------+-------+----------+---------------+------------+-------+----+-----+---+----+------+------+\n",
            "|            1|2024-04-03 14:15:...|4189.27|       688|         refund| San Antonio|      0|2024|    4|  3|  14|    15|    35|\n",
            "|            2|2024-03-19 13:20:...|2659.71|       109|         refund|      Dallas|      0|2024|    3| 19|  13|    20|    35|\n",
            "|            3|2024-01-08 10:08:...|  784.0|       394|       purchase|    New York|      0|2024|    1|  8|  10|     8|    35|\n",
            "|            4|2024-04-13 23:50:...| 3514.4|       944|       purchase|Philadelphia|      0|2024|    4| 13|  23|    50|    35|\n",
            "|            5|2024-07-12 18:51:...| 369.07|       475|       purchase|     Phoenix|      0|2024|    7| 12|  18|    51|    35|\n",
            "|            6|2024-08-30 01:52:...|3086.22|       302|       purchase|    New York|      0|2024|    8| 30|   1|    52|    35|\n",
            "|            7|2024-01-02 11:31:...| 1466.9|       902|         refund|Philadelphia|      0|2024|    1|  2|  11|    31|    35|\n",
            "|            8|2024-05-12 12:25:...| 917.21|       266|       purchase|    New York|      0|2024|    5| 12|  12|    25|    35|\n",
            "|            9|2023-11-16 02:20:...|1625.73|        32|         refund|     Chicago|      0|2023|   11| 16|   2|    20|    35|\n",
            "|           10|2023-10-24 06:51:...| 662.07|       193|       purchase|      Dallas|      0|2023|   10| 24|   6|    51|    35|\n",
            "|           11|2024-08-10 17:08:...|3895.94|       349|         refund| San Antonio|      0|2024|    8| 10|  17|     8|    35|\n",
            "|           12|2024-08-27 16:03:...| 944.94|       359|       purchase|    San Jose|      0|2024|    8| 27|  16|     3|    35|\n",
            "|           13|2024-08-31 02:38:...|2855.69|       219|         refund|    New York|      0|2024|    8| 31|   2|    38|    35|\n",
            "|           14|2023-11-12 13:30:...|4313.82|       617|         refund|    San Jose|      0|2023|   11| 12|  13|    30|    35|\n",
            "|           15|2024-07-13 09:02:...|4599.06|       529|         refund|Philadelphia|      0|2024|    7| 13|   9|     2|    35|\n",
            "|           16|2024-03-23 06:20:...|1524.05|       462|       purchase|   San Diego|      0|2024|    3| 23|   6|    20|    35|\n",
            "|           17|2024-01-04 22:23:...|2721.95|       912|         refund|    New York|      0|2024|    1|  4|  22|    23|    35|\n",
            "|           18|2023-11-05 23:33:...|1357.76|       522|         refund|    New York|      0|2023|   11|  5|  23|    33|    35|\n",
            "|           19|2024-02-29 06:41:...|4726.01|       456|       purchase|      Dallas|      0|2024|    2| 29|   6|    41|    35|\n",
            "|           20|2024-01-16 01:48:...|1814.95|       134|         refund|     Houston|      0|2024|    1| 16|   1|    48|    35|\n",
            "+-------------+--------------------+-------+----------+---------------+------------+-------+----+-----+---+----+------+------+\n",
            "only showing top 20 rows\n",
            "\n"
          ]
        }
      ]
    },
    {
      "cell_type": "code",
      "source": [
        "from pyspark.ml import Pipeline\n",
        "from pyspark.ml.feature import StringIndexer\n",
        "indexers = [\n",
        "    StringIndexer(inputCol=\"Location\", outputCol=\"Location_index\"),\n",
        "    StringIndexer(inputCol=\"TransactionType\", outputCol=\"TransactionType_index\")\n",
        "]\n",
        "\n",
        "pipeline = Pipeline(stages=indexers)\n",
        "\n",
        "\n",
        "df_indexed = pipeline.fit(df_with_integers).transform(df_with_integers)\n",
        "\n",
        "df_indexed.show()"
      ],
      "metadata": {
        "colab": {
          "base_uri": "https://localhost:8080/"
        },
        "id": "CxypHtRSxlxz",
        "outputId": "0b3430a6-f6c1-415a-a0d1-cd0ff2a714e7"
      },
      "execution_count": null,
      "outputs": [
        {
          "output_type": "stream",
          "name": "stdout",
          "text": [
            "+-------------+--------------------+-------+----------+---------------+------------+-------+----+-----+---+----+------+------+--------------+---------------------+\n",
            "|TransactionID|     TransactionDate| Amount|MerchantID|TransactionType|    Location|IsFraud|year|month|day|hour|minute|second|Location_index|TransactionType_index|\n",
            "+-------------+--------------------+-------+----------+---------------+------------+-------+----+-----+---+----+------+------+--------------+---------------------+\n",
            "|            1|2024-04-03 14:15:...|4189.27|       688|         refund| San Antonio|      0|2024|    4|  3|  14|    15|    35|           3.0|                  0.0|\n",
            "|            2|2024-03-19 13:20:...|2659.71|       109|         refund|      Dallas|      0|2024|    3| 19|  13|    20|    35|           2.0|                  0.0|\n",
            "|            3|2024-01-08 10:08:...|  784.0|       394|       purchase|    New York|      0|2024|    1|  8|  10|     8|    35|           4.0|                  1.0|\n",
            "|            4|2024-04-13 23:50:...| 3514.4|       944|       purchase|Philadelphia|      0|2024|    4| 13|  23|    50|    35|           8.0|                  1.0|\n",
            "|            5|2024-07-12 18:51:...| 369.07|       475|       purchase|     Phoenix|      0|2024|    7| 12|  18|    51|    35|           6.0|                  1.0|\n",
            "|            6|2024-08-30 01:52:...|3086.22|       302|       purchase|    New York|      0|2024|    8| 30|   1|    52|    35|           4.0|                  1.0|\n",
            "|            7|2024-01-02 11:31:...| 1466.9|       902|         refund|Philadelphia|      0|2024|    1|  2|  11|    31|    35|           8.0|                  0.0|\n",
            "|            8|2024-05-12 12:25:...| 917.21|       266|       purchase|    New York|      0|2024|    5| 12|  12|    25|    35|           4.0|                  1.0|\n",
            "|            9|2023-11-16 02:20:...|1625.73|        32|         refund|     Chicago|      0|2023|   11| 16|   2|    20|    35|           0.0|                  0.0|\n",
            "|           10|2023-10-24 06:51:...| 662.07|       193|       purchase|      Dallas|      0|2023|   10| 24|   6|    51|    35|           2.0|                  1.0|\n",
            "|           11|2024-08-10 17:08:...|3895.94|       349|         refund| San Antonio|      0|2024|    8| 10|  17|     8|    35|           3.0|                  0.0|\n",
            "|           12|2024-08-27 16:03:...| 944.94|       359|       purchase|    San Jose|      0|2024|    8| 27|  16|     3|    35|           9.0|                  1.0|\n",
            "|           13|2024-08-31 02:38:...|2855.69|       219|         refund|    New York|      0|2024|    8| 31|   2|    38|    35|           4.0|                  0.0|\n",
            "|           14|2023-11-12 13:30:...|4313.82|       617|         refund|    San Jose|      0|2023|   11| 12|  13|    30|    35|           9.0|                  0.0|\n",
            "|           15|2024-07-13 09:02:...|4599.06|       529|         refund|Philadelphia|      0|2024|    7| 13|   9|     2|    35|           8.0|                  0.0|\n",
            "|           16|2024-03-23 06:20:...|1524.05|       462|       purchase|   San Diego|      0|2024|    3| 23|   6|    20|    35|           1.0|                  1.0|\n",
            "|           17|2024-01-04 22:23:...|2721.95|       912|         refund|    New York|      0|2024|    1|  4|  22|    23|    35|           4.0|                  0.0|\n",
            "|           18|2023-11-05 23:33:...|1357.76|       522|         refund|    New York|      0|2023|   11|  5|  23|    33|    35|           4.0|                  0.0|\n",
            "|           19|2024-02-29 06:41:...|4726.01|       456|       purchase|      Dallas|      0|2024|    2| 29|   6|    41|    35|           2.0|                  1.0|\n",
            "|           20|2024-01-16 01:48:...|1814.95|       134|         refund|     Houston|      0|2024|    1| 16|   1|    48|    35|           5.0|                  0.0|\n",
            "+-------------+--------------------+-------+----------+---------------+------------+-------+----+-----+---+----+------+------+--------------+---------------------+\n",
            "only showing top 20 rows\n",
            "\n"
          ]
        }
      ]
    },
    {
      "cell_type": "code",
      "source": [
        "df_new=df_indexed.drop('Location','TransactionType')"
      ],
      "metadata": {
        "id": "3NFILvn0znk4"
      },
      "execution_count": null,
      "outputs": []
    },
    {
      "cell_type": "code",
      "source": [
        "df_new"
      ],
      "metadata": {
        "colab": {
          "base_uri": "https://localhost:8080/"
        },
        "id": "MpgCNKlH0D2M",
        "outputId": "a4418770-c670-4553-a684-7ea4b0107a2a"
      },
      "execution_count": null,
      "outputs": [
        {
          "output_type": "execute_result",
          "data": {
            "text/plain": [
              "DataFrame[TransactionID: int, TransactionDate: timestamp, Amount: double, MerchantID: int, IsFraud: int, year: int, month: int, day: int, hour: int, minute: int, second: int, Location_index: double, TransactionType_index: double]"
            ]
          },
          "metadata": {},
          "execution_count": 69
        }
      ]
    },
    {
      "cell_type": "code",
      "source": [
        "from pyspark.sql.functions import *"
      ],
      "metadata": {
        "id": "qJHsrtfl0Gt3"
      },
      "execution_count": null,
      "outputs": []
    },
    {
      "cell_type": "code",
      "source": [
        "df_new.select([count(when(col(c).isNull(),c)).alias(c) for c in df_new.columns]).show()"
      ],
      "metadata": {
        "colab": {
          "base_uri": "https://localhost:8080/"
        },
        "id": "ermm5pGJ0P42",
        "outputId": "1c56aeed-666f-41ef-9abc-0fc44ab553a9"
      },
      "execution_count": null,
      "outputs": [
        {
          "output_type": "stream",
          "name": "stdout",
          "text": [
            "+-------------+---------------+------+----------+-------+----+-----+---+----+------+------+--------------+---------------------+\n",
            "|TransactionID|TransactionDate|Amount|MerchantID|IsFraud|year|month|day|hour|minute|second|Location_index|TransactionType_index|\n",
            "+-------------+---------------+------+----------+-------+----+-----+---+----+------+------+--------------+---------------------+\n",
            "|            0|              0|     0|         0|      0|   0|    0|  0|   0|     0|     0|             0|                    0|\n",
            "+-------------+---------------+------+----------+-------+----+-----+---+----+------+------+--------------+---------------------+\n",
            "\n"
          ]
        }
      ]
    },
    {
      "cell_type": "code",
      "source": [
        "df1=df_new.drop_duplicates()"
      ],
      "metadata": {
        "id": "Q0ZEoseY6b4R"
      },
      "execution_count": null,
      "outputs": []
    },
    {
      "cell_type": "code",
      "source": [
        "df1.show()"
      ],
      "metadata": {
        "colab": {
          "base_uri": "https://localhost:8080/"
        },
        "id": "zp-AJI0j6xQB",
        "outputId": "a112212e-5ab1-48e2-f062-0c480725f3dd"
      },
      "execution_count": null,
      "outputs": [
        {
          "output_type": "stream",
          "name": "stdout",
          "text": [
            "+-------------+--------------------+-------+----------+-------+----+-----+---+----+------+------+--------------+---------------------+\n",
            "|TransactionID|     TransactionDate| Amount|MerchantID|IsFraud|year|month|day|hour|minute|second|Location_index|TransactionType_index|\n",
            "+-------------+--------------------+-------+----------+-------+----+-----+---+----+------+------+--------------+---------------------+\n",
            "|          197|2023-11-02 11:45:...|2805.81|       345|      0|2023|   11|  2|  11|    45|    35|           6.0|                  0.0|\n",
            "|          918|2023-11-03 13:12:...|2504.79|       527|      0|2023|   11|  3|  13|    12|    35|           8.0|                  0.0|\n",
            "|          944|2024-06-06 09:49:...|2332.68|         6|      0|2024|    6|  6|   9|    49|    35|           4.0|                  1.0|\n",
            "|          990|2024-07-30 08:29:...|1946.25|       480|      0|2024|    7| 30|   8|    29|    35|           5.0|                  1.0|\n",
            "|         1088|2024-09-01 07:26:...|3390.95|       831|      0|2024|    9|  1|   7|    26|    35|           9.0|                  0.0|\n",
            "|         1581|2024-01-29 00:02:...|1544.42|       975|      0|2024|    1| 29|   0|     2|    35|           3.0|                  0.0|\n",
            "|         1867|2024-06-06 01:07:...|2566.65|        82|      0|2024|    6|  6|   1|     7|    35|           6.0|                  0.0|\n",
            "|         1945|2024-06-05 08:50:...|3254.79|       239|      0|2024|    6|  5|   8|    50|    35|           0.0|                  1.0|\n",
            "|         2981|2023-12-12 16:00:...|3093.89|       885|      0|2023|   12| 12|  16|     0|    35|           9.0|                  1.0|\n",
            "|         2984|2024-01-18 13:23:...|4276.16|       192|      0|2024|    1| 18|  13|    23|    35|           0.0|                  0.0|\n",
            "|         3083|2024-03-24 10:29:...|  92.68|        95|      0|2024|    3| 24|  10|    29|    35|           2.0|                  1.0|\n",
            "|         3905|2024-02-04 13:22:...|3001.83|       843|      0|2024|    2|  4|  13|    22|    35|           8.0|                  1.0|\n",
            "|         4039|2024-03-24 05:43:...| 3690.7|       109|      0|2024|    3| 24|   5|    43|    35|           6.0|                  1.0|\n",
            "|         4071|2024-03-25 16:54:...|4297.44|       135|      0|2024|    3| 25|  16|    54|    35|           0.0|                  1.0|\n",
            "|         4096|2024-02-01 21:13:...|4474.06|       143|      0|2024|    2|  1|  21|    13|    35|           8.0|                  1.0|\n",
            "|         4399|2024-09-29 21:32:...| 4919.6|       505|      0|2024|    9| 29|  21|    32|    35|           7.0|                  1.0|\n",
            "|         4901|2024-09-25 00:25:...|3537.95|       887|      0|2024|    9| 25|   0|    25|    35|           9.0|                  0.0|\n",
            "|         4922|2023-11-26 15:09:...| 325.21|       952|      0|2023|   11| 26|  15|     9|    35|           4.0|                  0.0|\n",
            "|         5316|2024-02-20 01:10:...| 251.05|       815|      0|2024|    2| 20|   1|    10|    35|           1.0|                  1.0|\n",
            "|         5322|2024-03-30 04:33:...| 1944.2|        45|      0|2024|    3| 30|   4|    33|    35|           5.0|                  0.0|\n",
            "+-------------+--------------------+-------+----------+-------+----+-----+---+----+------+------+--------------+---------------------+\n",
            "only showing top 20 rows\n",
            "\n"
          ]
        }
      ]
    },
    {
      "cell_type": "code",
      "source": [
        "df1.columns"
      ],
      "metadata": {
        "colab": {
          "base_uri": "https://localhost:8080/"
        },
        "id": "ecPrKQoY7oK4",
        "outputId": "025021f0-1469-486b-be2b-fe335aedb71a"
      },
      "execution_count": null,
      "outputs": [
        {
          "output_type": "execute_result",
          "data": {
            "text/plain": [
              "['TransactionID',\n",
              " 'TransactionDate',\n",
              " 'Amount',\n",
              " 'MerchantID',\n",
              " 'IsFraud',\n",
              " 'year',\n",
              " 'month',\n",
              " 'day',\n",
              " 'hour',\n",
              " 'minute',\n",
              " 'second',\n",
              " 'Location_index',\n",
              " 'TransactionType_index']"
            ]
          },
          "metadata": {},
          "execution_count": 74
        }
      ]
    },
    {
      "cell_type": "code",
      "source": [
        "from pyspark.ml.feature import VectorAssembler\n",
        "assembler=VectorAssembler(inputCols=['Amount','TransactionType_index','year','month','day','hour','minute','second','Location_index','MerchantID','TransactionID'],outputCol='features')\n",
        "output=assembler.transform(df1)"
      ],
      "metadata": {
        "id": "VEupawec6yt4"
      },
      "execution_count": null,
      "outputs": []
    },
    {
      "cell_type": "code",
      "source": [
        "output.show()"
      ],
      "metadata": {
        "colab": {
          "base_uri": "https://localhost:8080/"
        },
        "id": "34P9qLmL7atm",
        "outputId": "83c82865-f24b-4139-8e06-063a3ce5a13e"
      },
      "execution_count": null,
      "outputs": [
        {
          "output_type": "stream",
          "name": "stdout",
          "text": [
            "+-------------+--------------------+-------+----------+-------+----+-----+---+----+------+------+--------------+---------------------+--------------------+\n",
            "|TransactionID|     TransactionDate| Amount|MerchantID|IsFraud|year|month|day|hour|minute|second|Location_index|TransactionType_index|            features|\n",
            "+-------------+--------------------+-------+----------+-------+----+-----+---+----+------+------+--------------+---------------------+--------------------+\n",
            "|          197|2023-11-02 11:45:...|2805.81|       345|      0|2023|   11|  2|  11|    45|    35|           6.0|                  0.0|[2805.81,0.0,2023...|\n",
            "|          918|2023-11-03 13:12:...|2504.79|       527|      0|2023|   11|  3|  13|    12|    35|           8.0|                  0.0|[2504.79,0.0,2023...|\n",
            "|          944|2024-06-06 09:49:...|2332.68|         6|      0|2024|    6|  6|   9|    49|    35|           4.0|                  1.0|[2332.68,1.0,2024...|\n",
            "|          990|2024-07-30 08:29:...|1946.25|       480|      0|2024|    7| 30|   8|    29|    35|           5.0|                  1.0|[1946.25,1.0,2024...|\n",
            "|         1088|2024-09-01 07:26:...|3390.95|       831|      0|2024|    9|  1|   7|    26|    35|           9.0|                  0.0|[3390.95,0.0,2024...|\n",
            "|         1581|2024-01-29 00:02:...|1544.42|       975|      0|2024|    1| 29|   0|     2|    35|           3.0|                  0.0|[1544.42,0.0,2024...|\n",
            "|         1867|2024-06-06 01:07:...|2566.65|        82|      0|2024|    6|  6|   1|     7|    35|           6.0|                  0.0|[2566.65,0.0,2024...|\n",
            "|         1945|2024-06-05 08:50:...|3254.79|       239|      0|2024|    6|  5|   8|    50|    35|           0.0|                  1.0|[3254.79,1.0,2024...|\n",
            "|         2981|2023-12-12 16:00:...|3093.89|       885|      0|2023|   12| 12|  16|     0|    35|           9.0|                  1.0|[3093.89,1.0,2023...|\n",
            "|         2984|2024-01-18 13:23:...|4276.16|       192|      0|2024|    1| 18|  13|    23|    35|           0.0|                  0.0|[4276.16,0.0,2024...|\n",
            "|         3083|2024-03-24 10:29:...|  92.68|        95|      0|2024|    3| 24|  10|    29|    35|           2.0|                  1.0|[92.68,1.0,2024.0...|\n",
            "|         3905|2024-02-04 13:22:...|3001.83|       843|      0|2024|    2|  4|  13|    22|    35|           8.0|                  1.0|[3001.83,1.0,2024...|\n",
            "|         4039|2024-03-24 05:43:...| 3690.7|       109|      0|2024|    3| 24|   5|    43|    35|           6.0|                  1.0|[3690.7,1.0,2024....|\n",
            "|         4071|2024-03-25 16:54:...|4297.44|       135|      0|2024|    3| 25|  16|    54|    35|           0.0|                  1.0|[4297.44,1.0,2024...|\n",
            "|         4096|2024-02-01 21:13:...|4474.06|       143|      0|2024|    2|  1|  21|    13|    35|           8.0|                  1.0|[4474.06,1.0,2024...|\n",
            "|         4399|2024-09-29 21:32:...| 4919.6|       505|      0|2024|    9| 29|  21|    32|    35|           7.0|                  1.0|[4919.6,1.0,2024....|\n",
            "|         4901|2024-09-25 00:25:...|3537.95|       887|      0|2024|    9| 25|   0|    25|    35|           9.0|                  0.0|[3537.95,0.0,2024...|\n",
            "|         4922|2023-11-26 15:09:...| 325.21|       952|      0|2023|   11| 26|  15|     9|    35|           4.0|                  0.0|[325.21,0.0,2023....|\n",
            "|         5316|2024-02-20 01:10:...| 251.05|       815|      0|2024|    2| 20|   1|    10|    35|           1.0|                  1.0|[251.05,1.0,2024....|\n",
            "|         5322|2024-03-30 04:33:...| 1944.2|        45|      0|2024|    3| 30|   4|    33|    35|           5.0|                  0.0|[1944.2,0.0,2024....|\n",
            "+-------------+--------------------+-------+----------+-------+----+-----+---+----+------+------+--------------+---------------------+--------------------+\n",
            "only showing top 20 rows\n",
            "\n"
          ]
        }
      ]
    },
    {
      "cell_type": "code",
      "source": [
        "train_data ,test_data=output.randomSplit([0.8,0.2])"
      ],
      "metadata": {
        "id": "cG9fSoXT85Vf"
      },
      "execution_count": null,
      "outputs": []
    },
    {
      "cell_type": "code",
      "source": [
        "from pyspark.ml.classification import LogisticRegression ,DecisionTreeClassifier\n",
        "sp=LogisticRegression(featuresCol='features',labelCol='IsFraud')"
      ],
      "metadata": {
        "id": "ZeXWvbBF9BPO"
      },
      "execution_count": null,
      "outputs": []
    },
    {
      "cell_type": "code",
      "source": [
        "model=sp.fit(train_data)"
      ],
      "metadata": {
        "id": "SIwkAqF19Ne-"
      },
      "execution_count": null,
      "outputs": []
    },
    {
      "cell_type": "code",
      "source": [
        "result=model.evaluate(train_data)"
      ],
      "metadata": {
        "id": "yPmtE9CV9d1O"
      },
      "execution_count": null,
      "outputs": []
    },
    {
      "cell_type": "code",
      "source": [
        "result.accuracy"
      ],
      "metadata": {
        "colab": {
          "base_uri": "https://localhost:8080/"
        },
        "id": "poMRjYM69i6V",
        "outputId": "93ac3825-5ea7-4252-9810-66fba6eb0ef2"
      },
      "execution_count": null,
      "outputs": [
        {
          "output_type": "execute_result",
          "data": {
            "text/plain": [
              "0.9898764199226064"
            ]
          },
          "metadata": {},
          "execution_count": 83
        }
      ]
    },
    {
      "cell_type": "code",
      "source": [
        "pred=model.transform(test_data)"
      ],
      "metadata": {
        "id": "yCh9R5hS9msB"
      },
      "execution_count": null,
      "outputs": []
    },
    {
      "cell_type": "code",
      "source": [
        "pred.show()"
      ],
      "metadata": {
        "colab": {
          "base_uri": "https://localhost:8080/"
        },
        "id": "hH26maFr9tpT",
        "outputId": "b4cdb4fa-f543-4141-d772-43ffe3e8bd2c"
      },
      "execution_count": null,
      "outputs": [
        {
          "output_type": "stream",
          "name": "stdout",
          "text": [
            "+-------------+--------------------+-------+----------+-------+----+-----+---+----+------+------+--------------+---------------------+--------------------+--------------------+--------------------+----------+\n",
            "|TransactionID|     TransactionDate| Amount|MerchantID|IsFraud|year|month|day|hour|minute|second|Location_index|TransactionType_index|            features|       rawPrediction|         probability|prediction|\n",
            "+-------------+--------------------+-------+----------+-------+----+-----+---+----+------+------+--------------+---------------------+--------------------+--------------------+--------------------+----------+\n",
            "|            8|2024-05-12 12:25:...| 917.21|       266|      0|2024|    5| 12|  12|    25|    35|           4.0|                  1.0|[917.21,1.0,2024....|[4.58966251292932...|[0.98994582763405...|       0.0|\n",
            "|           31|2024-07-24 17:19:...|1062.73|       595|      0|2024|    7| 24|  17|    19|    35|           0.0|                  0.0|[1062.73,0.0,2024...|[4.62018580237682...|[0.99024512933660...|       0.0|\n",
            "|           33|2024-07-22 16:26:...|3439.54|       781|      0|2024|    7| 22|  16|    26|    35|           3.0|                  0.0|[3439.54,0.0,2024...|[4.64037455319318...|[0.99043822912694...|       0.0|\n",
            "|           41|2024-02-19 21:10:...|3472.91|       788|      0|2024|    2| 19|  21|    10|    35|           1.0|                  0.0|[3472.91,0.0,2024...|[4.58263489459581...|[0.98987563976586...|       0.0|\n",
            "|           52|2024-01-17 02:02:...|  817.4|        57|      0|2024|    1| 17|   2|     2|    35|           0.0|                  0.0|[817.4,0.0,2024.0...|[4.41566092792935...|[0.98805777729128...|       0.0|\n",
            "|           54|2023-12-12 05:00:...| 740.67|       970|      0|2023|   12| 12|   5|     0|    35|           3.0|                  1.0|[740.67,1.0,2023....|[4.65844510845862...|[0.99060785556229...|       0.0|\n",
            "|           57|2023-11-27 15:19:...|3021.84|       685|      0|2023|   11| 27|  15|    19|    35|           1.0|                  0.0|[3021.84,0.0,2023...|[4.72597148898464...|[0.99121574664050...|       0.0|\n",
            "|           66|2024-06-05 01:51:...| 720.95|       680|      0|2024|    6|  5|   1|    51|    35|           5.0|                  1.0|[720.95,1.0,2024....|[4.48863123117737...|[0.98888883242808...|       0.0|\n",
            "|           68|2024-02-13 02:09:...|3448.81|       219|      0|2024|    2| 13|   2|     9|    35|           1.0|                  0.0|[3448.81,0.0,2024...|[4.43115767507229...|[0.98823925658661...|       0.0|\n",
            "|           77|2024-04-13 01:42:...|2015.55|       447|      0|2024|    4| 13|   1|    42|    35|           1.0|                  1.0|[2015.55,1.0,2024...|[4.45854966909892...|[0.98855339716403...|       0.0|\n",
            "|           92|2024-01-07 10:11:...|2356.42|       941|      0|2024|    1|  7|  10|    11|    35|           4.0|                  1.0|[2356.42,1.0,2024...|[4.49917261704580...|[0.98900406319761...|       0.0|\n",
            "|          102|2024-08-24 02:05:...| 433.94|       837|      0|2024|    8| 24|   2|     5|    35|           0.0|                  1.0|[433.94,1.0,2024....|[4.54984833081873...|[0.98954172427539...|       0.0|\n",
            "|          121|2024-03-28 06:56:...|1476.27|       231|      0|2024|    3| 28|   6|    56|    35|           7.0|                  0.0|[1476.27,0.0,2024...|[4.56220608059643...|[0.98966884275643...|       0.0|\n",
            "|          125|2024-09-30 15:20:...| 303.11|       232|      0|2024|    9| 30|  15|    20|    35|           0.0|                  0.0|[303.11,0.0,2024....|[4.65732544452482...|[0.99059743256069...|       0.0|\n",
            "|          133|2024-06-25 23:19:...|4452.56|       587|      0|2024|    6| 25|  23|    19|    35|           0.0|                  0.0|[4452.56,0.0,2024...|[4.66797479388571...|[0.99069610584027...|       0.0|\n",
            "|          147|2024-01-24 03:05:...|3022.31|       294|      0|2024|    1| 24|   3|     5|    35|           3.0|                  0.0|[3022.31,0.0,2024...|[4.48104947728363...|[0.98880521678648...|       0.0|\n",
            "|          153|2024-02-20 19:41:...|1705.68|       174|      0|2024|    2| 20|  19|    41|    35|           0.0|                  1.0|[1705.68,1.0,2024...|[4.58323541151648...|[0.98988165629079...|       0.0|\n",
            "|          159|2024-07-06 15:17:...|2458.68|       681|      0|2024|    7|  6|  15|    17|    35|           3.0|                  0.0|[2458.68,0.0,2024...|[4.58060750291782...|[0.98985530134269...|       0.0|\n",
            "|          168|2024-04-19 17:35:...|1796.39|       584|      0|2024|    4| 19|  17|    35|    35|           4.0|                  0.0|[1796.39,0.0,2024...|[4.59974257365792...|[0.99004566145223...|       0.0|\n",
            "|          173|2023-12-31 10:49:...|  68.85|       737|      0|2023|   12| 31|  10|    49|    35|           6.0|                  1.0|[68.85,1.0,2023.0...|[4.77392536782127...|[0.99162359996630...|       0.0|\n",
            "+-------------+--------------------+-------+----------+-------+----+-----+---+----+------+------+--------------+---------------------+--------------------+--------------------+--------------------+----------+\n",
            "only showing top 20 rows\n",
            "\n"
          ]
        }
      ]
    },
    {
      "cell_type": "code",
      "source": [
        "result_test=model.evaluate(test_data)"
      ],
      "metadata": {
        "id": "LCDv7PUw9wGc"
      },
      "execution_count": null,
      "outputs": []
    },
    {
      "cell_type": "code",
      "source": [
        "result_test.accuracy"
      ],
      "metadata": {
        "colab": {
          "base_uri": "https://localhost:8080/"
        },
        "id": "_t_989Mv963l",
        "outputId": "9fa293e8-e20e-4c44-90fa-9c3f1f78b454"
      },
      "execution_count": null,
      "outputs": [
        {
          "output_type": "execute_result",
          "data": {
            "text/plain": [
              "0.9904977375565611"
            ]
          },
          "metadata": {},
          "execution_count": 87
        }
      ]
    },
    {
      "cell_type": "code",
      "source": [],
      "metadata": {
        "id": "lyINif04-AYr"
      },
      "execution_count": null,
      "outputs": []
    }
  ]
}