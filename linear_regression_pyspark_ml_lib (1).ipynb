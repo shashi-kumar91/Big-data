{
  "nbformat": 4,
  "nbformat_minor": 0,
  "metadata": {
    "colab": {
      "provenance": []
    },
    "kernelspec": {
      "name": "python3",
      "display_name": "Python 3"
    },
    "language_info": {
      "name": "python"
    }
  },
  "cells": [
    {
      "cell_type": "code",
      "execution_count": null,
      "metadata": {
        "colab": {
          "base_uri": "https://localhost:8080/"
        },
        "id": "B8ib-V6klzGh",
        "outputId": "eb11c7eb-6ab0-4a79-a25d-3aa160c5e940"
      },
      "outputs": [
        {
          "output_type": "stream",
          "name": "stdout",
          "text": [
            "Requirement already satisfied: pyspark in /usr/local/lib/python3.11/dist-packages (3.5.4)\n",
            "Requirement already satisfied: py4j==0.10.9.7 in /usr/local/lib/python3.11/dist-packages (from pyspark) (0.10.9.7)\n"
          ]
        }
      ],
      "source": [
        "pip install pyspark"
      ]
    },
    {
      "cell_type": "code",
      "source": [
        "import pyspark\n",
        "from pyspark.sql import SparkSession"
      ],
      "metadata": {
        "id": "ysBV9XwgmP1Y"
      },
      "execution_count": null,
      "outputs": []
    },
    {
      "cell_type": "code",
      "source": [
        "spark=SparkSession.builder.appName('first_bigdata').getOrCreate()"
      ],
      "metadata": {
        "id": "3_w_CQH-mkSM"
      },
      "execution_count": null,
      "outputs": []
    },
    {
      "cell_type": "code",
      "source": [
        "spark"
      ],
      "metadata": {
        "colab": {
          "base_uri": "https://localhost:8080/",
          "height": 221
        },
        "id": "1UKz8ERDnP8T",
        "outputId": "e1a49251-974c-405a-9b01-063ec2897f67"
      },
      "execution_count": null,
      "outputs": [
        {
          "output_type": "execute_result",
          "data": {
            "text/plain": [
              "<pyspark.sql.session.SparkSession at 0x7bb03910f3d0>"
            ],
            "text/html": [
              "\n",
              "            <div>\n",
              "                <p><b>SparkSession - in-memory</b></p>\n",
              "                \n",
              "        <div>\n",
              "            <p><b>SparkContext</b></p>\n",
              "\n",
              "            <p><a href=\"http://76eefc69b515:4040\">Spark UI</a></p>\n",
              "\n",
              "            <dl>\n",
              "              <dt>Version</dt>\n",
              "                <dd><code>v3.5.4</code></dd>\n",
              "              <dt>Master</dt>\n",
              "                <dd><code>local[*]</code></dd>\n",
              "              <dt>AppName</dt>\n",
              "                <dd><code>first_bigdata</code></dd>\n",
              "            </dl>\n",
              "        </div>\n",
              "        \n",
              "            </div>\n",
              "        "
            ]
          },
          "metadata": {},
          "execution_count": 76
        }
      ]
    },
    {
      "cell_type": "code",
      "source": [
        "\n",
        "df=spark.read.csv('/content/Fish.csv',inferSchema=True,header=True)"
      ],
      "metadata": {
        "id": "Uku6ROQZnT-h"
      },
      "execution_count": null,
      "outputs": []
    },
    {
      "cell_type": "code",
      "source": [
        "df"
      ],
      "metadata": {
        "colab": {
          "base_uri": "https://localhost:8080/"
        },
        "id": "4u1wj0eOo2jq",
        "outputId": "ed391e2f-7cc1-46a6-c841-befe80fcb721"
      },
      "execution_count": null,
      "outputs": [
        {
          "output_type": "execute_result",
          "data": {
            "text/plain": [
              "DataFrame[Species: string, Weight: double, Length1: double, Length2: double, Length3: double, Height: double, Width: double]"
            ]
          },
          "metadata": {},
          "execution_count": 78
        }
      ]
    },
    {
      "cell_type": "code",
      "source": [
        "df.show()"
      ],
      "metadata": {
        "colab": {
          "base_uri": "https://localhost:8080/"
        },
        "id": "38P-FnWOo6Q-",
        "outputId": "a8bbf8c2-6d3b-4f51-eb77-571c766faa9d"
      },
      "execution_count": null,
      "outputs": [
        {
          "output_type": "stream",
          "name": "stdout",
          "text": [
            "+-------+------+-------+-------+-------+-------+------+\n",
            "|Species|Weight|Length1|Length2|Length3| Height| Width|\n",
            "+-------+------+-------+-------+-------+-------+------+\n",
            "|  Bream| 242.0|   23.2|   25.4|   30.0|  11.52|  4.02|\n",
            "|  Bream| 290.0|   24.0|   26.3|   31.2|  12.48|4.3056|\n",
            "|  Bream| 340.0|   23.9|   26.5|   31.1|12.3778|4.6961|\n",
            "|  Bream| 363.0|   26.3|   29.0|   33.5|  12.73|4.4555|\n",
            "|  Bream| 430.0|   26.5|   29.0|   34.0| 12.444| 5.134|\n",
            "|  Bream| 450.0|   26.8|   29.7|   34.7|13.6024|4.9274|\n",
            "|  Bream| 500.0|   26.8|   29.7|   34.5|14.1795|5.2785|\n",
            "|  Bream| 390.0|   27.6|   30.0|   35.0|  12.67|  4.69|\n",
            "|  Bream| 450.0|   27.6|   30.0|   35.1|14.0049|4.8438|\n",
            "|  Bream| 500.0|   28.5|   30.7|   36.2|14.2266|4.9594|\n",
            "|  Bream| 475.0|   28.4|   31.0|   36.2|14.2628|5.1042|\n",
            "|  Bream| 500.0|   28.7|   31.0|   36.2|14.3714|4.8146|\n",
            "|  Bream| 500.0|   29.1|   31.5|   36.4|13.7592| 4.368|\n",
            "|  Bream| 340.0|   29.5|   32.0|   37.3|13.9129|5.0728|\n",
            "|  Bream| 600.0|   29.4|   32.0|   37.2|14.9544|5.1708|\n",
            "|  Bream| 600.0|   29.4|   32.0|   37.2| 15.438|  5.58|\n",
            "|  Bream| 700.0|   30.4|   33.0|   38.3|14.8604|5.2854|\n",
            "|  Bream| 700.0|   30.4|   33.0|   38.5| 14.938|5.1975|\n",
            "|  Bream| 610.0|   30.9|   33.5|   38.6| 15.633|5.1338|\n",
            "|  Bream| 650.0|   31.0|   33.5|   38.7|14.4738|5.7276|\n",
            "+-------+------+-------+-------+-------+-------+------+\n",
            "only showing top 20 rows\n",
            "\n"
          ]
        }
      ]
    },
    {
      "cell_type": "code",
      "source": [
        "df.printSchema()"
      ],
      "metadata": {
        "colab": {
          "base_uri": "https://localhost:8080/"
        },
        "id": "a4_Zg28fpAYX",
        "outputId": "fd307471-9560-4a13-dfaa-7dfc7dc7b76a"
      },
      "execution_count": null,
      "outputs": [
        {
          "output_type": "stream",
          "name": "stdout",
          "text": [
            "root\n",
            " |-- Species: string (nullable = true)\n",
            " |-- Weight: double (nullable = true)\n",
            " |-- Length1: double (nullable = true)\n",
            " |-- Length2: double (nullable = true)\n",
            " |-- Length3: double (nullable = true)\n",
            " |-- Height: double (nullable = true)\n",
            " |-- Width: double (nullable = true)\n",
            "\n"
          ]
        }
      ]
    },
    {
      "cell_type": "code",
      "source": [
        "\n",
        "\n",
        "from pyspark.ml.feature import StringIndexer"
      ],
      "metadata": {
        "id": "umQui2CdpPQN"
      },
      "execution_count": null,
      "outputs": []
    },
    {
      "cell_type": "code",
      "source": [
        "p=StringIndexer(inputCol='Species',outputCol='Species_index')"
      ],
      "metadata": {
        "id": "v5iPImjVr9z0"
      },
      "execution_count": null,
      "outputs": []
    },
    {
      "cell_type": "code",
      "source": [
        "\n",
        "df_index=p.fit(df).transform(df)"
      ],
      "metadata": {
        "id": "1XyNjLq3sQGe"
      },
      "execution_count": null,
      "outputs": []
    },
    {
      "cell_type": "code",
      "source": [
        "\n",
        "df_index.show()"
      ],
      "metadata": {
        "colab": {
          "base_uri": "https://localhost:8080/"
        },
        "id": "aNHLs9rIsYCJ",
        "outputId": "1dac1dc1-8b0e-46c9-92f8-fa17fc98b270"
      },
      "execution_count": null,
      "outputs": [
        {
          "output_type": "stream",
          "name": "stdout",
          "text": [
            "+-------+------+-------+-------+-------+-------+------+-------------+\n",
            "|Species|Weight|Length1|Length2|Length3| Height| Width|Species_index|\n",
            "+-------+------+-------+-------+-------+-------+------+-------------+\n",
            "|  Bream| 242.0|   23.2|   25.4|   30.0|  11.52|  4.02|          1.0|\n",
            "|  Bream| 290.0|   24.0|   26.3|   31.2|  12.48|4.3056|          1.0|\n",
            "|  Bream| 340.0|   23.9|   26.5|   31.1|12.3778|4.6961|          1.0|\n",
            "|  Bream| 363.0|   26.3|   29.0|   33.5|  12.73|4.4555|          1.0|\n",
            "|  Bream| 430.0|   26.5|   29.0|   34.0| 12.444| 5.134|          1.0|\n",
            "|  Bream| 450.0|   26.8|   29.7|   34.7|13.6024|4.9274|          1.0|\n",
            "|  Bream| 500.0|   26.8|   29.7|   34.5|14.1795|5.2785|          1.0|\n",
            "|  Bream| 390.0|   27.6|   30.0|   35.0|  12.67|  4.69|          1.0|\n",
            "|  Bream| 450.0|   27.6|   30.0|   35.1|14.0049|4.8438|          1.0|\n",
            "|  Bream| 500.0|   28.5|   30.7|   36.2|14.2266|4.9594|          1.0|\n",
            "|  Bream| 475.0|   28.4|   31.0|   36.2|14.2628|5.1042|          1.0|\n",
            "|  Bream| 500.0|   28.7|   31.0|   36.2|14.3714|4.8146|          1.0|\n",
            "|  Bream| 500.0|   29.1|   31.5|   36.4|13.7592| 4.368|          1.0|\n",
            "|  Bream| 340.0|   29.5|   32.0|   37.3|13.9129|5.0728|          1.0|\n",
            "|  Bream| 600.0|   29.4|   32.0|   37.2|14.9544|5.1708|          1.0|\n",
            "|  Bream| 600.0|   29.4|   32.0|   37.2| 15.438|  5.58|          1.0|\n",
            "|  Bream| 700.0|   30.4|   33.0|   38.3|14.8604|5.2854|          1.0|\n",
            "|  Bream| 700.0|   30.4|   33.0|   38.5| 14.938|5.1975|          1.0|\n",
            "|  Bream| 610.0|   30.9|   33.5|   38.6| 15.633|5.1338|          1.0|\n",
            "|  Bream| 650.0|   31.0|   33.5|   38.7|14.4738|5.7276|          1.0|\n",
            "+-------+------+-------+-------+-------+-------+------+-------------+\n",
            "only showing top 20 rows\n",
            "\n"
          ]
        }
      ]
    },
    {
      "cell_type": "code",
      "source": [
        "df_index.select('Species','Species_index').distinct().show()"
      ],
      "metadata": {
        "id": "TWPaHkQrsbS5",
        "colab": {
          "base_uri": "https://localhost:8080/"
        },
        "outputId": "7a8a06ce-d401-44b4-e548-85542248371c"
      },
      "execution_count": null,
      "outputs": [
        {
          "output_type": "stream",
          "name": "stdout",
          "text": [
            "+---------+-------------+\n",
            "|  Species|Species_index|\n",
            "+---------+-------------+\n",
            "|    Bream|          1.0|\n",
            "|    Perch|          0.0|\n",
            "|     Pike|          3.0|\n",
            "|    Smelt|          4.0|\n",
            "|    Roach|          2.0|\n",
            "|   Parkki|          5.0|\n",
            "|Whitefish|          6.0|\n",
            "+---------+-------------+\n",
            "\n"
          ]
        }
      ]
    },
    {
      "cell_type": "code",
      "source": [
        "df_index.groupby('Species').count().show()"
      ],
      "metadata": {
        "colab": {
          "base_uri": "https://localhost:8080/"
        },
        "id": "erinqci1UZJh",
        "outputId": "85db020a-c90e-4283-9463-ce4b8a2eb6ee"
      },
      "execution_count": null,
      "outputs": [
        {
          "output_type": "stream",
          "name": "stdout",
          "text": [
            "+---------+-----+\n",
            "|  Species|count|\n",
            "+---------+-----+\n",
            "|    Roach|   20|\n",
            "|    Smelt|   14|\n",
            "|   Parkki|   11|\n",
            "|Whitefish|    6|\n",
            "|     Pike|   17|\n",
            "|    Bream|   35|\n",
            "|    Perch|   56|\n",
            "+---------+-----+\n",
            "\n"
          ]
        }
      ]
    },
    {
      "cell_type": "code",
      "source": [
        "from pyspark.ml.feature import VectorAssembler\n",
        "assembler=VectorAssembler(inputCols=['Width','Length1','Length2','Length3','Height'],outputCol='features')\n",
        "output=assembler.transform(df_index)"
      ],
      "metadata": {
        "id": "9JvgDe0FUmSE"
      },
      "execution_count": null,
      "outputs": []
    },
    {
      "cell_type": "code",
      "source": [
        "output.show()"
      ],
      "metadata": {
        "colab": {
          "base_uri": "https://localhost:8080/"
        },
        "id": "l3xhMS6GVgdQ",
        "outputId": "d375f95c-b539-42a1-df23-322893693a91"
      },
      "execution_count": null,
      "outputs": [
        {
          "output_type": "stream",
          "name": "stdout",
          "text": [
            "+-------+------+-------+-------+-------+-------+------+-------------+--------------------+\n",
            "|Species|Weight|Length1|Length2|Length3| Height| Width|Species_index|            features|\n",
            "+-------+------+-------+-------+-------+-------+------+-------------+--------------------+\n",
            "|  Bream| 242.0|   23.2|   25.4|   30.0|  11.52|  4.02|          1.0|[4.02,23.2,25.4,3...|\n",
            "|  Bream| 290.0|   24.0|   26.3|   31.2|  12.48|4.3056|          1.0|[4.3056,24.0,26.3...|\n",
            "|  Bream| 340.0|   23.9|   26.5|   31.1|12.3778|4.6961|          1.0|[4.6961,23.9,26.5...|\n",
            "|  Bream| 363.0|   26.3|   29.0|   33.5|  12.73|4.4555|          1.0|[4.4555,26.3,29.0...|\n",
            "|  Bream| 430.0|   26.5|   29.0|   34.0| 12.444| 5.134|          1.0|[5.134,26.5,29.0,...|\n",
            "|  Bream| 450.0|   26.8|   29.7|   34.7|13.6024|4.9274|          1.0|[4.9274,26.8,29.7...|\n",
            "|  Bream| 500.0|   26.8|   29.7|   34.5|14.1795|5.2785|          1.0|[5.2785,26.8,29.7...|\n",
            "|  Bream| 390.0|   27.6|   30.0|   35.0|  12.67|  4.69|          1.0|[4.69,27.6,30.0,3...|\n",
            "|  Bream| 450.0|   27.6|   30.0|   35.1|14.0049|4.8438|          1.0|[4.8438,27.6,30.0...|\n",
            "|  Bream| 500.0|   28.5|   30.7|   36.2|14.2266|4.9594|          1.0|[4.9594,28.5,30.7...|\n",
            "|  Bream| 475.0|   28.4|   31.0|   36.2|14.2628|5.1042|          1.0|[5.1042,28.4,31.0...|\n",
            "|  Bream| 500.0|   28.7|   31.0|   36.2|14.3714|4.8146|          1.0|[4.8146,28.7,31.0...|\n",
            "|  Bream| 500.0|   29.1|   31.5|   36.4|13.7592| 4.368|          1.0|[4.368,29.1,31.5,...|\n",
            "|  Bream| 340.0|   29.5|   32.0|   37.3|13.9129|5.0728|          1.0|[5.0728,29.5,32.0...|\n",
            "|  Bream| 600.0|   29.4|   32.0|   37.2|14.9544|5.1708|          1.0|[5.1708,29.4,32.0...|\n",
            "|  Bream| 600.0|   29.4|   32.0|   37.2| 15.438|  5.58|          1.0|[5.58,29.4,32.0,3...|\n",
            "|  Bream| 700.0|   30.4|   33.0|   38.3|14.8604|5.2854|          1.0|[5.2854,30.4,33.0...|\n",
            "|  Bream| 700.0|   30.4|   33.0|   38.5| 14.938|5.1975|          1.0|[5.1975,30.4,33.0...|\n",
            "|  Bream| 610.0|   30.9|   33.5|   38.6| 15.633|5.1338|          1.0|[5.1338,30.9,33.5...|\n",
            "|  Bream| 650.0|   31.0|   33.5|   38.7|14.4738|5.7276|          1.0|[5.7276,31.0,33.5...|\n",
            "+-------+------+-------+-------+-------+-------+------+-------------+--------------------+\n",
            "only showing top 20 rows\n",
            "\n"
          ]
        }
      ]
    },
    {
      "cell_type": "code",
      "source": [
        "train_data ,test_data=output.randomSplit([0.8,0.2])"
      ],
      "metadata": {
        "id": "bqA4h9PGVi0K"
      },
      "execution_count": null,
      "outputs": []
    },
    {
      "cell_type": "code",
      "source": [
        "train_data.describe().show()"
      ],
      "metadata": {
        "colab": {
          "base_uri": "https://localhost:8080/"
        },
        "id": "MaSIJ2HbW1IZ",
        "outputId": "7b0ffbcd-9d8b-4c83-91af-bf729f8c2dbf"
      },
      "execution_count": null,
      "outputs": [
        {
          "output_type": "stream",
          "name": "stdout",
          "text": [
            "+-------+---------+------------------+------------------+------------------+------------------+------------------+------------------+------------------+\n",
            "|summary|  Species|            Weight|           Length1|           Length2|           Length3|            Height|             Width|     Species_index|\n",
            "+-------+---------+------------------+------------------+------------------+------------------+------------------+------------------+------------------+\n",
            "|  count|      122|               122|               122|               122|               122|               122|               122|               122|\n",
            "|   mean|     NULL|402.53360655737697|  26.5155737704918|28.699180327868863| 31.49672131147541|  8.84571229508197| 4.379478688524588|1.5327868852459017|\n",
            "| stddev|     NULL| 367.8214111687328|10.492240505492214|11.215120371285355|12.116172747774863|4.2276337167190965|1.6483735212300883|1.6919079465683977|\n",
            "|    min|    Bream|               5.9|               7.5|               8.4|               8.8|            1.7388|            1.0476|               0.0|\n",
            "|    max|Whitefish|            1650.0|              59.0|              63.4|              68.0|            18.957|            7.5958|               6.0|\n",
            "+-------+---------+------------------+------------------+------------------+------------------+------------------+------------------+------------------+\n",
            "\n"
          ]
        }
      ]
    },
    {
      "cell_type": "code",
      "source": [
        "from pyspark.ml.regression import LinearRegression\n",
        "sp=LinearRegression(featuresCol='features',labelCol='Weight')"
      ],
      "metadata": {
        "id": "be9lwspYW88J"
      },
      "execution_count": null,
      "outputs": []
    },
    {
      "cell_type": "code",
      "source": [
        "model=sp.fit(train_data)"
      ],
      "metadata": {
        "id": "Z5_9s3O2YMja"
      },
      "execution_count": null,
      "outputs": []
    },
    {
      "cell_type": "code",
      "source": [
        "#result=model.evaluate(test_data)"
      ],
      "metadata": {
        "id": "OsXvXR0kYU0x"
      },
      "execution_count": null,
      "outputs": []
    },
    {
      "cell_type": "code",
      "source": [
        "result=model.evaluate(train_data)"
      ],
      "metadata": {
        "id": "llMTfnqIYcWP"
      },
      "execution_count": null,
      "outputs": []
    },
    {
      "cell_type": "code",
      "source": [
        "result.r2"
      ],
      "metadata": {
        "colab": {
          "base_uri": "https://localhost:8080/"
        },
        "id": "qmVhRG1KYfAB",
        "outputId": "d4b36297-cb37-4745-f3e6-2e42108eb54f"
      },
      "execution_count": null,
      "outputs": [
        {
          "output_type": "execute_result",
          "data": {
            "text/plain": [
              "0.8814419957528674"
            ]
          },
          "metadata": {},
          "execution_count": 98
        }
      ]
    },
    {
      "cell_type": "code",
      "source": [
        "pred=model.transform(test_data)"
      ],
      "metadata": {
        "id": "pdaI5x3haXv5"
      },
      "execution_count": null,
      "outputs": []
    },
    {
      "cell_type": "code",
      "source": [
        "pred.show()"
      ],
      "metadata": {
        "colab": {
          "base_uri": "https://localhost:8080/"
        },
        "id": "dRQ1ZaE0absi",
        "outputId": "1b09a6a7-791d-445e-cb9e-9aaf131d3737"
      },
      "execution_count": null,
      "outputs": [
        {
          "output_type": "stream",
          "name": "stdout",
          "text": [
            "+-------+------+-------+-------+-------+-------+------+-------------+--------------------+------------------+\n",
            "|Species|Weight|Length1|Length2|Length3| Height| Width|Species_index|            features|        prediction|\n",
            "+-------+------+-------+-------+-------+-------+------+-------------+--------------------+------------------+\n",
            "|  Bream| 500.0|   26.8|   29.7|   34.5|14.1795|5.2785|          1.0|[5.2785,26.8,29.7...|502.33230564374514|\n",
            "|  Bream| 500.0|   28.7|   31.0|   36.2|14.3714|4.8146|          1.0|[4.8146,28.7,31.0...| 546.1512012491461|\n",
            "|  Bream| 600.0|   29.4|   32.0|   37.2| 15.438|  5.58|          1.0|[5.58,29.4,32.0,3...| 604.7167864448699|\n",
            "|  Bream| 620.0|   31.5|   34.5|   39.7|15.5227|5.2801|          1.0|[5.2801,31.5,34.5...| 642.7927216501358|\n",
            "|  Bream| 925.0|   36.2|   39.5|   45.3|18.7542|6.7497|          1.0|[6.7497,36.2,39.5...| 861.8182708093601|\n",
            "|  Bream| 955.0|   35.0|   38.5|   44.0| 18.084| 6.292|          1.0|[6.292,35.0,38.5,...| 803.7959951100507|\n",
            "|  Bream| 975.0|   37.4|   41.0|   45.9|18.6354|6.7473|          1.0|[6.7473,37.4,41.0...| 900.6763827150577|\n",
            "| Parkki|  90.0|   16.3|   17.7|   19.8| 7.4052| 2.673|          5.0|[2.673,16.3,17.7,...| 86.99008930567072|\n",
            "| Parkki| 140.0|   19.0|   20.7|   23.2| 8.5376|3.2944|          5.0|[3.2944,19.0,20.7...|186.19661040088067|\n",
            "| Parkki| 150.0|   18.4|   20.0|   22.4| 8.8928|3.2928|          5.0|[3.2928,18.4,20.0...| 182.7031838552067|\n",
            "| Parkki| 273.0|   23.0|   25.0|   28.0| 11.088| 4.144|          5.0|[4.144,23.0,25.0,...| 355.2231988786813|\n",
            "| Parkki| 300.0|   24.0|   26.0|   29.0| 11.368| 4.234|          5.0|[4.234,24.0,26.0,...| 389.7803790185844|\n",
            "|  Perch| 120.0|   20.0|   22.0|   23.5|   5.64| 3.525|          0.0|[3.525,20.0,22.0,...|167.17473493831938|\n",
            "|  Perch| 170.0|   21.5|   23.5|   25.0|  6.275| 3.725|          0.0|[3.725,21.5,23.5,...|225.76517382946304|\n",
            "|  Perch| 188.0|   22.6|   24.6|   26.2| 6.7334|4.1658|          0.0|[4.1658,22.6,24.6...|275.60475407521767|\n",
            "|  Perch| 300.0|   25.2|   27.3|   28.7|  8.323|5.1373|          0.0|[5.1373,25.2,27.3...|408.73636232308957|\n",
            "|  Perch| 556.0|   32.0|   34.5|   36.5|10.2565|6.3875|          0.0|[6.3875,32.0,34.5...| 643.8886145595662|\n",
            "|  Perch| 690.0|   34.6|   37.0|   39.3|10.5717|6.3666|          0.0|[6.3666,34.6,37.0...| 713.1941398883677|\n",
            "|  Perch| 840.0|   32.5|   35.0|   37.3|11.4884|7.7957|          0.0|[7.7957,32.5,35.0...| 721.1580773462896|\n",
            "|  Perch| 850.0|   36.9|   40.0|   42.3|11.9286|7.1064|          0.0|[7.1064,36.9,40.0...| 809.9471211620058|\n",
            "+-------+------+-------+-------+-------+-------+------+-------------+--------------------+------------------+\n",
            "only showing top 20 rows\n",
            "\n"
          ]
        }
      ]
    },
    {
      "cell_type": "code",
      "source": [
        "result_test=model.evaluate(test_data)"
      ],
      "metadata": {
        "id": "Cl8O3d6SaeE_"
      },
      "execution_count": null,
      "outputs": []
    },
    {
      "cell_type": "code",
      "source": [
        "result.r2"
      ],
      "metadata": {
        "colab": {
          "base_uri": "https://localhost:8080/"
        },
        "id": "MvLBhaU3apJe",
        "outputId": "8e418c39-7174-458c-ab32-80943505fd66"
      },
      "execution_count": null,
      "outputs": [
        {
          "output_type": "execute_result",
          "data": {
            "text/plain": [
              "0.8814419957528674"
            ]
          },
          "metadata": {},
          "execution_count": 103
        }
      ]
    },
    {
      "cell_type": "code",
      "source": [],
      "metadata": {
        "id": "DlmMtqbnatLv"
      },
      "execution_count": null,
      "outputs": []
    }
  ]
}